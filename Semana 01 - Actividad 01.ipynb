{
 "cells": [
  {
   "cell_type": "markdown",
   "metadata": {},
   "source": [
    "# Nuestra primer aplicacion\n",
    "\n",
    "## Atencion\n",
    "Para ejecutar esta libreta primero tienen que configurar su sistema como se describe en [la libreta de preparacion](./L00_Preparacion.ipynb). Comenzaremos por conectarnos al dispositivo y asegurar que podemos comunicarnos con el."
   ]
  },
  {
   "cell_type": "code",
   "execution_count": 1,
   "metadata": {},
   "outputs": [
    {
     "name": "stdout",
     "output_type": "stream",
     "text": [
      "List of devices attached\r\n",
      "R88DEAEY55Y59THU\tdevice\r\n",
      "\r\n"
     ]
    }
   ],
   "source": [
    "!adb devices\n",
    "!adb forward tcp:9999 tcp:2222"
   ]
  },
  {
   "cell_type": "code",
   "execution_count": 2,
   "metadata": {},
   "outputs": [],
   "source": [
    "import android"
   ]
  },
  {
   "cell_type": "code",
   "execution_count": 3,
   "metadata": {},
   "outputs": [
    {
     "data": {
      "text/plain": [
       "Result(id=0, result=None, error=None)"
      ]
     },
     "execution_count": 3,
     "metadata": {},
     "output_type": "execute_result"
    }
   ],
   "source": [
    "andy = android.Android()\n",
    "andy.ttsSpeak(\"listo para recibir instrucciones|\")"
   ]
  },
  {
   "cell_type": "markdown",
   "metadata": {},
   "source": [
    "## Objetivo\n",
    "En la sesion de hoy tendremos como objetivo escribir una aplicacion que se conecte a un servicio externo y obtenga la informacion del estado del tiempo en la posicion actual del dispositivo, y finalmente que el dispositivo \"hable\" el estado del tiempo descargado. Para esto necesitaremos:\n",
    "\n",
    "1. conocer la ubicacion del dispositivo\n",
    "2. solcitar la informacion del estado del tiempo en la ubicacion del dispositivo\n",
    "\n",
    "Para 1. usaremos la fachada de localizacion , en particular usaremos [getLastKnownLocation](https://github.com/kuri65536/sl4a/blob/master/docs/ApiReference.md#getlastknownlocation) y [geocode](https://github.com/kuri65536/sl4a/blob/master/docs/ApiReference.md#geocode).\n",
    "Para 2. usaremos la informacion obtenida de 1. y algunas librerias externas de Python para solicitar el estado del tiempo usando la API de [OpenWeatherMap](https://openweathermap.org/city/3526617).\n",
    "\n",
    "Comenzamos!"
   ]
  },
  {
   "cell_type": "markdown",
   "metadata": {},
   "source": [
    "## 0. Obtener geolocalización"
   ]
  },
  {
   "cell_type": "code",
   "execution_count": 4,
   "metadata": {},
   "outputs": [
    {
     "data": {
      "text/plain": [
       "Result(id=3, result=None, error=None)"
      ]
     },
     "execution_count": 4,
     "metadata": {},
     "output_type": "execute_result"
    }
   ],
   "source": [
    "andy.startLocating()\n",
    "andy.readLocation().result\n",
    "andy.stopLocating()"
   ]
  },
  {
   "cell_type": "markdown",
   "metadata": {},
   "source": [
    "## 1. Determinar ultima posicion conocida del dispositivo"
   ]
  },
  {
   "cell_type": "code",
   "execution_count": 5,
   "metadata": {},
   "outputs": [
    {
     "data": {
      "text/plain": [
       "{u'gps': None,\n",
       " u'network': {u'accuracy': 22.808000564575195,\n",
       "  u'altitude': 0,\n",
       "  u'bearing': 0,\n",
       "  u'latitude': 19.5232633,\n",
       "  u'longitude': -96.9306004,\n",
       "  u'provider': u'network',\n",
       "  u'speed': 0,\n",
       "  u'time': 1522092232037},\n",
       " u'passive': {u'accuracy': 22.808000564575195,\n",
       "  u'altitude': 0,\n",
       "  u'bearing': 0,\n",
       "  u'latitude': 19.5232633,\n",
       "  u'longitude': -96.9306004,\n",
       "  u'provider': u'network',\n",
       "  u'speed': 0,\n",
       "  u'time': 1522092232037}}"
      ]
     },
     "execution_count": 5,
     "metadata": {},
     "output_type": "execute_result"
    }
   ],
   "source": [
    "# obtener la ultima localizacion conocida\n",
    "andy.getLastKnownLocation().result"
   ]
  },
  {
   "cell_type": "code",
   "execution_count": 6,
   "metadata": {},
   "outputs": [
    {
     "data": {
      "text/plain": [
       "dict"
      ]
     },
     "execution_count": 6,
     "metadata": {},
     "output_type": "execute_result"
    }
   ],
   "source": [
    "# asignamos la ultima localizacion conocida a una variable.\n",
    "# notemos que la variable es del tipo diccionario (dict)\n",
    "ultimaLocalizacionConocida = andy.getLastKnownLocation().result\n",
    "\n",
    "type(ultimaLocalizacionConocida)"
   ]
  },
  {
   "cell_type": "code",
   "execution_count": 7,
   "metadata": {},
   "outputs": [
    {
     "name": "stdout",
     "output_type": "stream",
     "text": [
      "None\n"
     ]
    }
   ],
   "source": [
    "# notemos que el valor de la llave 'gps' es nulo\n",
    "print(ultimaLocalizacionConocida['gps'])"
   ]
  },
  {
   "cell_type": "code",
   "execution_count": 8,
   "metadata": {},
   "outputs": [
    {
     "name": "stdout",
     "output_type": "stream",
     "text": [
      "{u'bearing': 0, u'altitude': 0, u'provider': u'network', u'longitude': -96.9306004, u'time': 1522092232037, u'latitude': 19.5232633, u'speed': 0, u'accuracy': 22.808000564575195}\n"
     ]
    }
   ],
   "source": [
    "# accedemos al valor de la llave network\n",
    "print(ultimaLocalizacionConocida['network'])"
   ]
  },
  {
   "cell_type": "markdown",
   "metadata": {},
   "source": [
    "El valor asignado a la variable `ultimaLoc` dependera de cual de los proveedores sea no nulo. Al final de la celda desplegamos el contenido asignado a `ultimaLoc`. Noten la estructura de diccionario."
   ]
  },
  {
   "cell_type": "code",
   "execution_count": 9,
   "metadata": {},
   "outputs": [
    {
     "name": "stdout",
     "output_type": "stream",
     "text": [
      "<type 'dict'>\n",
      "{u'bearing': 0, u'altitude': 0, u'provider': u'network', u'longitude': -96.9306004, u'time': 1522092232037, u'latitude': 19.5232633, u'speed': 0, u'accuracy': 22.808000564575195}\n"
     ]
    },
    {
     "data": {
      "text/plain": [
       "[u'bearing',\n",
       " u'altitude',\n",
       " u'provider',\n",
       " u'longitude',\n",
       " u'time',\n",
       " u'latitude',\n",
       " u'speed',\n",
       " u'accuracy']"
      ]
     },
     "execution_count": 9,
     "metadata": {},
     "output_type": "execute_result"
    }
   ],
   "source": [
    "# asignamos una variable al contenido de la llave que no es nula usando una condicional\n",
    "\n",
    "if ultimaLocalizacionConocida['gps'] is not None:\n",
    "    ultimaLoc = ultimaLocalizacionConocida['gps']\n",
    "else:\n",
    "    ultimaLoc = ultimaLocalizacionConocida['network']\n",
    "\n",
    "print type(ultimaLoc)\n",
    "print ultimaLoc\n",
    "ultimaLoc.keys()"
   ]
  },
  {
   "cell_type": "markdown",
   "metadata": {},
   "source": [
    "Ahora vamos a extraer la latitud, longitud y estampa temporal del diccionario anterior. "
   ]
  },
  {
   "cell_type": "code",
   "execution_count": 10,
   "metadata": {},
   "outputs": [
    {
     "name": "stdout",
     "output_type": "stream",
     "text": [
      "1522092232037\n"
     ]
    }
   ],
   "source": [
    "# del diccionario extraemos latitud y longitud y fecha\n",
    "lat = ultimaLoc[\"latitude\"]\n",
    "lon = ultimaLoc[\"longitude\"]\n",
    "time = ultimaLoc[\"time\"]\n",
    "print time"
   ]
  },
  {
   "cell_type": "markdown",
   "metadata": {},
   "source": [
    "Noten que la variable `time` es lo que se conoce como un `timestamp` un numero entero que cuenta los segundos transcurridos desde un inicio determinado. De este modo necesitamos convertirla en un formato amigable. Para esto usamos un modulo de Python que se llama `datetime`"
   ]
  },
  {
   "cell_type": "code",
   "execution_count": 11,
   "metadata": {},
   "outputs": [
    {
     "name": "stdout",
     "output_type": "stream",
     "text": [
      "2018-03-26 13:23:52.037000\n"
     ]
    }
   ],
   "source": [
    "import datetime\n",
    "\n",
    "fecha = datetime.datetime.fromtimestamp(time / 1e3)\n",
    "print fecha"
   ]
  },
  {
   "cell_type": "code",
   "execution_count": 12,
   "metadata": {
    "scrolled": true
   },
   "outputs": [
    {
     "name": "stdout",
     "output_type": "stream",
     "text": [
      "2018-03-26 13:23:52\n"
     ]
    }
   ],
   "source": [
    "# otra forma de presentar la fecha solo hasta segundos\n",
    "fecha = datetime.datetime.fromtimestamp(time/1e3).strftime('%Y-%m-%d %H:%M:%S')\n",
    "print fecha"
   ]
  },
  {
   "cell_type": "code",
   "execution_count": 13,
   "metadata": {},
   "outputs": [
    {
     "name": "stdout",
     "output_type": "stream",
     "text": [
      "13:23:52\n"
     ]
    }
   ],
   "source": [
    "hora = datetime.datetime.fromtimestamp(time/1e3).strftime('%H:%M:%S')\n",
    "print hora"
   ]
  },
  {
   "cell_type": "markdown",
   "metadata": {},
   "source": [
    "Ahora usaremos [geocode](https://github.com/kuri65536/sl4a/blob/master/docs/ApiReference.md#geocode) que es una funcion del dispositivo que regresa una lista de direcciones para la latitud y longitud dadas:"
   ]
  },
  {
   "cell_type": "code",
   "execution_count": 14,
   "metadata": {},
   "outputs": [
    {
     "data": {
      "text/plain": [
       "[{u'admin_area': u'Veracruz',\n",
       "  u'country_code': u'MX',\n",
       "  u'country_name': u'M\\xe9xico',\n",
       "  u'feature_name': u'54',\n",
       "  u'locality': u'Xalapa Enr\\xedquez',\n",
       "  u'postal_code': u'91070',\n",
       "  u'sub_admin_area': u'Xalapa',\n",
       "  u'thoroughfare': u'Avenida Venustiano Carranza'},\n",
       " {u'admin_area': u'Veracruz',\n",
       "  u'country_code': u'MX',\n",
       "  u'country_name': u'M\\xe9xico',\n",
       "  u'feature_name': u'23',\n",
       "  u'locality': u'Xalapa Enr\\xedquez',\n",
       "  u'postal_code': u'91070',\n",
       "  u'sub_admin_area': u'Xalapa',\n",
       "  u'thoroughfare': u'Calle Centro America'},\n",
       " {u'admin_area': u'Veracruz',\n",
       "  u'country_code': u'MX',\n",
       "  u'country_name': u'M\\xe9xico',\n",
       "  u'feature_name': u'Francisco I. Madero',\n",
       "  u'locality': u'Xalapa Enr\\xedquez',\n",
       "  u'postal_code': u'91070',\n",
       "  u'sub_admin_area': u'Xalapa'},\n",
       " {u'admin_area': u'Veracruz',\n",
       "  u'country_code': u'MX',\n",
       "  u'country_name': u'M\\xe9xico',\n",
       "  u'feature_name': u'Xalapa Enr\\xedquez',\n",
       "  u'locality': u'Xalapa Enr\\xedquez',\n",
       "  u'sub_admin_area': u'Xalapa'},\n",
       " {u'admin_area': u'Veracruz',\n",
       "  u'country_code': u'MX',\n",
       "  u'country_name': u'M\\xe9xico',\n",
       "  u'feature_name': u'91070',\n",
       "  u'locality': u'Xalapa Enr\\xedquez',\n",
       "  u'postal_code': u'91070',\n",
       "  u'sub_admin_area': u'Xalapa'}]"
      ]
     },
     "execution_count": 14,
     "metadata": {},
     "output_type": "execute_result"
    }
   ],
   "source": [
    "andy.geocode(lat,lon,5).result"
   ]
  },
  {
   "cell_type": "markdown",
   "metadata": {},
   "source": [
    "Noten que el resultado no es un diccionario, sino una lista de diccionarios. Si no se especifica el ultimo numero (cuantas direcciones solicitar) se regresa solo un valor:"
   ]
  },
  {
   "cell_type": "code",
   "execution_count": 15,
   "metadata": {},
   "outputs": [
    {
     "name": "stdout",
     "output_type": "stream",
     "text": [
      "[{u'thoroughfare': u'Avenida Venustiano Carranza', u'locality': u'Xalapa Enr\\xedquez', u'sub_admin_area': u'Xalapa', u'admin_area': u'Veracruz', u'feature_name': u'54', u'country_code': u'MX', u'country_name': u'M\\xe9xico', u'postal_code': u'91070'}]\n"
     ]
    },
    {
     "data": {
      "text/plain": [
       "list"
      ]
     },
     "execution_count": 15,
     "metadata": {},
     "output_type": "execute_result"
    }
   ],
   "source": [
    "direccion = andy.geocode(lat,lon).result\n",
    "print direccion\n",
    "type(direccion)"
   ]
  },
  {
   "cell_type": "markdown",
   "metadata": {},
   "source": [
    "Dado que la variable `direccion` es una lista, debemos acceder a sus elementos especificando un indice:"
   ]
  },
  {
   "cell_type": "code",
   "execution_count": 16,
   "metadata": {},
   "outputs": [
    {
     "name": "stdout",
     "output_type": "stream",
     "text": [
      "91070\n",
      "MX\n"
     ]
    }
   ],
   "source": [
    "codigoPostal = direccion[0][\"postal_code\"]\n",
    "print codigoPostal\n",
    "codigoPais = direccion[0][\"country_code\"]\n",
    "print codigoPais"
   ]
  },
  {
   "cell_type": "markdown",
   "metadata": {},
   "source": [
    "## 2. Solicitar estado del tiempo usando API de OpenWeatherMap"
   ]
  },
  {
   "cell_type": "markdown",
   "metadata": {},
   "source": [
    "Con el codigo postal y el codigo del pais podemos solicitar informacion a la API en la siguiente url:"
   ]
  },
  {
   "cell_type": "code",
   "execution_count": 17,
   "metadata": {
    "scrolled": true
   },
   "outputs": [],
   "source": [
    "url=\"http://api.openweathermap.org/data/2.5/weather?zip={0},{1}&APPID=dfeea5e604e1948b28652216ad910d11\".format(codigoPostal,codigoPais)"
   ]
  },
  {
   "cell_type": "code",
   "execution_count": 18,
   "metadata": {},
   "outputs": [
    {
     "name": "stdout",
     "output_type": "stream",
     "text": [
      "http://api.openweathermap.org/data/2.5/weather?zip=91070,MX&APPID=dfeea5e604e1948b28652216ad910d11\n"
     ]
    }
   ],
   "source": [
    "print(url)"
   ]
  },
  {
   "cell_type": "markdown",
   "metadata": {},
   "source": [
    "Podemos solicitar la informacion a un `url` directamente usando una libreria que se llama `requests` del siguiente modo:"
   ]
  },
  {
   "cell_type": "code",
   "execution_count": 19,
   "metadata": {},
   "outputs": [],
   "source": [
    "import requests\n",
    "estadoDelTiempo = requests.get(url).json()\n",
    "\n",
    "# vamos a usar urrlib2 pues requests no esta disponible en el movil\n",
    "\n",
    "import urllib2\n",
    "response = urllib2.urlopen(url)\n",
    "respuesta = response.read()\n",
    "response.close()"
   ]
  },
  {
   "cell_type": "code",
   "execution_count": 20,
   "metadata": {},
   "outputs": [],
   "source": [
    "# convertimos el resultado a un dictionario de JSON\n",
    "\n",
    "import json\n",
    "\n",
    "estadoDelTiempo = json.loads(respuesta)"
   ]
  },
  {
   "cell_type": "markdown",
   "metadata": {},
   "source": [
    "El resultado es un diccionario en formato json"
   ]
  },
  {
   "cell_type": "code",
   "execution_count": 21,
   "metadata": {},
   "outputs": [
    {
     "data": {
      "text/plain": [
       "{u'base': u'stations',\n",
       " u'clouds': {u'all': 8},\n",
       " u'cod': 200,\n",
       " u'coord': {u'lat': 19.51, u'lon': -97.1},\n",
       " u'dt': 1522092222,\n",
       " u'id': 590134798,\n",
       " u'main': {u'grnd_level': 866.37,\n",
       "  u'humidity': 37,\n",
       "  u'pressure': 866.37,\n",
       "  u'sea_level': 1023.52,\n",
       "  u'temp': 299.491,\n",
       "  u'temp_max': 299.491,\n",
       "  u'temp_min': 299.491},\n",
       " u'name': u'Xalapa',\n",
       " u'sys': {u'country': u'MX',\n",
       "  u'message': 0.0031,\n",
       "  u'sunrise': 1522067193,\n",
       "  u'sunset': 1522111271},\n",
       " u'weather': [{u'description': u'clear sky',\n",
       "   u'icon': u'02d',\n",
       "   u'id': 800,\n",
       "   u'main': u'Clear'}],\n",
       " u'wind': {u'deg': 40.503, u'speed': 1.11}}"
      ]
     },
     "execution_count": 21,
     "metadata": {},
     "output_type": "execute_result"
    }
   ],
   "source": [
    "estadoDelTiempo"
   ]
  },
  {
   "cell_type": "code",
   "execution_count": 22,
   "metadata": {},
   "outputs": [
    {
     "data": {
      "text/plain": [
       "u'Xalapa'"
      ]
     },
     "execution_count": 22,
     "metadata": {},
     "output_type": "execute_result"
    }
   ],
   "source": [
    "estadoDelTiempo['name']"
   ]
  },
  {
   "cell_type": "code",
   "execution_count": 23,
   "metadata": {},
   "outputs": [
    {
     "data": {
      "text/plain": [
       "[u'clouds',\n",
       " u'name',\n",
       " u'coord',\n",
       " u'sys',\n",
       " u'weather',\n",
       " u'cod',\n",
       " u'base',\n",
       " u'dt',\n",
       " u'main',\n",
       " u'id',\n",
       " u'wind']"
      ]
     },
     "execution_count": 23,
     "metadata": {},
     "output_type": "execute_result"
    }
   ],
   "source": [
    "estadoDelTiempo.keys()"
   ]
  },
  {
   "cell_type": "code",
   "execution_count": 24,
   "metadata": {},
   "outputs": [
    {
     "data": {
      "text/plain": [
       "[{u'description': u'clear sky',\n",
       "  u'icon': u'02d',\n",
       "  u'id': 800,\n",
       "  u'main': u'Clear'}]"
      ]
     },
     "execution_count": 24,
     "metadata": {},
     "output_type": "execute_result"
    }
   ],
   "source": [
    "# queremos la descripcion de estado del tiempo\n",
    "estadoDelTiempo[\"weather\"]"
   ]
  },
  {
   "cell_type": "code",
   "execution_count": 25,
   "metadata": {},
   "outputs": [],
   "source": [
    "# es una lista\n",
    "descripcion = estadoDelTiempo[\"weather\"][0]['description']"
   ]
  },
  {
   "cell_type": "code",
   "execution_count": 26,
   "metadata": {},
   "outputs": [],
   "source": [
    "import sys\n",
    "reload(sys)  # Reload does the trick!\n",
    "sys.setdefaultencoding('UTF8')"
   ]
  },
  {
   "cell_type": "markdown",
   "metadata": {},
   "source": [
    "# Ejercicio\n",
    "\n",
    "Completar los valores que hacen falta entre las comas al final de la siguiente instruccion.\n",
    "Necesitan ingresar cuatro valores entre las comas, los valores estan en alguna de las celdas de evaluacion de esta libreta.\n",
    "El mensaje debe verse como sigue:\n",
    "\n",
    "    'En la ciudad de Xalapa Enr\\xc3\\xadquez, siendo las 2018-03-19 13:09:32 horas, en la calle de Avenida Enrique C. R\\xc3\\xa9bsamen, el estado del tiempo es scattered clouds'"
   ]
  },
  {
   "cell_type": "code",
   "execution_count": 44,
   "metadata": {},
   "outputs": [],
   "source": [
    "# ejercicio, completa los valores que hacen falta entre las comas\n",
    "mensaje='En la ciudad de {0}, siendo las {1} horas, en la calle {2}, el estado del tiempo es {3}'.format( \\\n",
    "                                estadoDelTiempo['name'],hora,direccion[0][\"thoroughfare\"],estadoDelTiempo[\"weather\"][0][\"description\"])"
   ]
  },
  {
   "cell_type": "code",
   "execution_count": 41,
   "metadata": {},
   "outputs": [
    {
     "data": {
      "text/plain": [
       "'En la ciudad de Xalapa, siendo las 13:23:52 horas, en la calle de Avenida Venustiano Carranza, el estado del tiempo es clear sky'"
      ]
     },
     "execution_count": 41,
     "metadata": {},
     "output_type": "execute_result"
    }
   ],
   "source": [
    "mensaje"
   ]
  },
  {
   "cell_type": "markdown",
   "metadata": {},
   "source": [
    "Finalmente le damos al dispositivo la instruccion de darnos el mensaje creado..."
   ]
  },
  {
   "cell_type": "code",
   "execution_count": 45,
   "metadata": {
    "scrolled": true
   },
   "outputs": [
    {
     "data": {
      "text/plain": [
       "Result(id=13, result=None, error=None)"
      ]
     },
     "execution_count": 45,
     "metadata": {},
     "output_type": "execute_result"
    }
   ],
   "source": [
    "andy.ttsSpeak(mensaje)"
   ]
  },
  {
   "cell_type": "markdown",
   "metadata": {},
   "source": [
    "Felicidades! han hecho su primer app en Python para Android. En la siguiente sesion vamos a integrar la app con la funcionalidad de localizacion para que pueda decirles el estado del tiempo en cualquier lugar en donde se encuentren usando la posicion actual."
   ]
  }
 ],
 "metadata": {
  "anaconda-cloud": {},
  "kernelspec": {
   "display_name": "Python 2",
   "language": "python",
   "name": "python2"
  },
  "language_info": {
   "codemirror_mode": {
    "name": "ipython",
    "version": 2
   },
   "file_extension": ".py",
   "mimetype": "text/x-python",
   "name": "python",
   "nbconvert_exporter": "python",
   "pygments_lexer": "ipython2",
   "version": "2.7.14"
  }
 },
 "nbformat": 4,
 "nbformat_minor": 2
}
