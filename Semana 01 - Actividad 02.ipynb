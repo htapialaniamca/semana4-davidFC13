{
 "cells": [
  {
   "cell_type": "markdown",
   "metadata": {},
   "source": [
    "# Implementando la app en el dispositivo\n",
    "En la libreta anterior desarrollamos una aplicacion de forma iteractiva utilizando Python en el dispositivo. El verdadedo poder de ést ágil modelo de desarrollo está en que podemos probar línea por línea cada una de las ideas que deseamos implementar. En esta libreta vamos a consolidar todo el código en una sola celda y ejecutar el script desde el dispositivo, independientemente de la computadora. \n",
    "\n",
    "\n",
    "## Atencion\n",
    "Para ejecutar esta libreta primero tienen que configurar su sistema como se describe en [la libreta de preparacion](./L00_Preparacion.ipynb). Comenzaremos por conectarnos al dispositivo y asegurar que podemos comunicarnos con el."
   ]
  },
  {
   "cell_type": "code",
   "execution_count": 18,
   "metadata": {},
   "outputs": [],
   "source": [
    "# necesitamos estar conectados a nuestro movil\n",
    "!adb devices\n",
    "!adb forward tcp:9999 tcp:2222"
   ]
  },
  {
   "cell_type": "code",
   "execution_count": 2,
   "metadata": {},
   "outputs": [],
   "source": [
    "import android"
   ]
  },
  {
   "cell_type": "code",
   "execution_count": 3,
   "metadata": {},
   "outputs": [
    {
     "data": {
      "text/plain": [
       "Result(id=0, result=None, error=None)"
      ]
     },
     "execution_count": 3,
     "metadata": {},
     "output_type": "execute_result"
    }
   ],
   "source": [
    "droid = android.Android()\n",
    "droid.ttsSpeak(\"listo para recibir instrucciones|\")"
   ]
  },
  {
   "cell_type": "markdown",
   "metadata": {},
   "source": [
    "## Objetivo\n",
    "\n",
    "Implementar y ejecutar la aplicacion que habla el estado del tiempo en el dispositivo movil.\n",
    "\n",
    "Comenzamos!"
   ]
  },
  {
   "cell_type": "markdown",
   "metadata": {},
   "source": [
    "## Consolidando el código de la aplicación\n",
    "\n",
    "Cuando ejecutan la siguiente celda, el sistema salva el codigo en un archivo con nombre `dimeElEstadoDelTiempo.py` en el directorio actual. Este archivo lo copiaremos directamente al dispositivo usando `adb` y lo ejecutaremos en el dispositivo."
   ]
  },
  {
   "cell_type": "code",
   "execution_count": 5,
   "metadata": {},
   "outputs": [
    {
     "name": "stdout",
     "output_type": "stream",
     "text": [
      "Writing dimeElEstadoDelTiempo.py3\n"
     ]
    }
   ],
   "source": [
    "#%%file dimeElEstadoDelTiempo.py3\n",
    "\n",
    "# NOMBRE DEL ALUMNO\n",
    "\n",
    "# modulos y librerias usadas\n",
    "import android\n",
    "import datetime\n",
    "import urllib2, json\n",
    "import sys\n",
    "reload(sys)  # Reload does the trick!\n",
    "sys.setdefaultencoding('UTF8')\n",
    "\n",
    "droid = android.Android()\n",
    "\n",
    "ultimaLocalizacionConocida = droid.getLastKnownLocation().result\n",
    "\n",
    "# asignamos una variable al contenido de la llave que no es nula usando una condicional\n",
    "\n",
    "if ultimaLocalizacionConocida['gps'] is not None:\n",
    "    ultimaLoc = ultimaLocalizacionConocida['gps']\n",
    "else:\n",
    "    ultimaLoc = ultimaLocalizacionConocida['network']\n",
    "\n",
    "# del diccionario extraemos latitud y longitud y fecha\n",
    "lat = ultimaLoc[\"latitude\"]\n",
    "lon = ultimaLoc[\"longitude\"]\n",
    "time = ultimaLoc[\"time\"]\n",
    "\n",
    "fecha = datetime.datetime.fromtimestamp(time/1e3).strftime('%Y-%m-%d %H:%M:%S')\n",
    "\n",
    "direccion = droid.geocode(lat,lon).result\n",
    "\n",
    "codigoPostal = direccion[0][\"postal_code\"]\n",
    "codigoPais = direccion[0][\"country_code\"]\n",
    "\n",
    "url=\"http://api.openweathermap.org/data/2.5/weather?zip={0},{1}&APPID=dfeea5e604e1948b28652216ad910d11\".format(codigoPostal,codigoPais)\n",
    "\n",
    "response = urllib2.urlopen(url)\n",
    "respuesta = response.read()\n",
    "response.close()\n",
    "\n",
    "estadoDelTiempo = json.loads(respuesta)\n",
    "\n",
    "# es una lista\n",
    "descripcion = estadoDelTiempo[\"weather\"][0]['description']\n",
    "\n",
    "# mensaje\n",
    "mensaje='En la ciudad de {0}, siendo las {1} horas, en la calle de {2}, el estado del tiempo es {3}'.format( \\\n",
    "                                direccion[0]['locality'], fecha,direccion[0]['thoroughfare'],descripcion)\n",
    "\n",
    "droid.ttsSpeak(mensaje)"
   ]
  },
  {
   "cell_type": "code",
   "execution_count": 7,
   "metadata": {},
   "outputs": [
    {
     "name": "stdout",
     "output_type": "stream",
     "text": [
      "14 KB/s (1457 bytes in 0.095s)\r\n"
     ]
    }
   ],
   "source": [
    "# copia al dispositivo\n",
    "!adb push dimeElEstadoDelTiempo.py3 /sdcard/sl4a/scripts/RySI"
   ]
  },
  {
   "cell_type": "markdown",
   "metadata": {},
   "source": [
    "La celda anterior copia el script al folder apropiado en el dispositivo; el video que se muestra a continuacion crea un nuevo folder RySI y muestra como el script se copia en esa ruta. Tambien muestra que sucede cuando ejecutamos el script directamente.\n",
    "\n",
    "<video width=\"320\" height=\"240\" controls>\n",
    "  <source src=\"../files/videos/crearNuevoFolderEnSL4A.mp4\" type=\"video/mp4\">\n",
    "</video>"
   ]
  },
  {
   "cell_type": "markdown",
   "metadata": {},
   "source": [
    "# Ejercicio\n",
    "\n",
    "Modificar el programa para que \n",
    "\n",
    "1. el mensaje sea correcto: actualmente dice algo como \"siendo las veinte de marzo de dos mil dieciocho etc.\" debe decir algo como \"En la ciudad de XXXX siendo las HH horas con MM minutos del dia DD de AA, en la calle de CCCC...\", y\n",
    "\n",
    "2. la aplicacion muestre el mensaje al usuario a traves de una ventana de dialogo"
   ]
  },
  {
   "cell_type": "markdown",
   "metadata": {},
   "source": [
    "Debido al error:\n",
    "\n",
    "makefile() got an unexpected keyword argument 'encoding'\n",
    "\n",
    "Fue necesario instalar python 3 desde con la apk:\n",
    "https://github.com/kuri65536/python-for-android/releases/download/r32/Python3ForAndroid-debug.apk"
   ]
  },
  {
   "cell_type": "code",
   "execution_count": 16,
   "metadata": {},
   "outputs": [],
   "source": [
    "%%file dimeElEstadoDelTiempo.py3             #Notar extensión de Python 3\n",
    "\n",
    "# NOMBRE DEL ALUMNO\n",
    "\n",
    "# modulos y librerias usadas\n",
    "import android\n",
    "import datetime\n",
    "import urllib2, json\n",
    "import sys\n",
    "reload(sys)  # Reload does the trick!\n",
    "sys.setdefaultencoding('UTF8')\n",
    "\n",
    "droid = android.Android()\n",
    "\n",
    "ultimaLocalizacionConocida = droid.getLastKnownLocation().result\n",
    "\n",
    "# asignamos una variable al contenido de la llave que no es nula usando una condicional\n",
    "\n",
    "if ultimaLocalizacionConocida['gps'] is not None:\n",
    "    ultimaLoc = ultimaLocalizacionConocida['gps']\n",
    "else:\n",
    "    ultimaLoc = ultimaLocalizacionConocida['network']\n",
    "\n",
    "# del diccionario extraemos latitud y longitud y fecha\n",
    "lat = ultimaLoc[\"latitude\"]\n",
    "lon = ultimaLoc[\"longitude\"]\n",
    "time = ultimaLoc[\"time\"]\n",
    "\n",
    "fecha = datetime.datetime.fromtimestamp(time/1e3).strftime('%H:%M:%S')\n",
    "\n",
    "direccion = droid.geocode(lat,lon).result\n",
    "\n",
    "codigoPostal = direccion[0][\"postal_code\"]\n",
    "codigoPais = direccion[0][\"country_code\"]\n",
    "\n",
    "url=\"http://api.openweathermap.org/data/2.5/weather?zip={0},{1}&APPID=dfeea5e604e1948b28652216ad910d11\".format(codigoPostal,codigoPais)\n",
    "\n",
    "response = urllib2.urlopen(url)\n",
    "respuesta = response.read()\n",
    "response.close()\n",
    "\n",
    "estadoDelTiempo = json.loads(respuesta)\n",
    "\n",
    "# es una lista\n",
    "descripcion = estadoDelTiempo[\"weather\"][0]['description']\n",
    "\n",
    "# mensaje\n",
    "mensaje='En la ciudad de {0}, siendo las {1} horas, en la calle de {2}, el estado del tiempo es {3}'.format( \\\n",
    "                                direccion[0]['locality'], fecha,direccion[0]['thoroughfare'],descripcion)\n",
    "\n",
    "droid.dialogCreateAlert(\"Estado del tiempo\",mensaje)\n",
    "droid.dialogSetNeutralButtonText(\"Ok\")\n",
    "droid.ttsSpeak(mensaje)\n",
    "droid.dialogShow()\n",
    "droid.dialogGetResponse()"
   ]
  },
  {
   "cell_type": "code",
   "execution_count": 19,
   "metadata": {},
   "outputs": [],
   "source": [
    "!adb push dimeElEstadoDelTiempo.py3 /sdcard0/sl4a/scripts/RySI"
   ]
  }
 ],
 "metadata": {
  "anaconda-cloud": {},
  "kernelspec": {
   "display_name": "Python 2",
   "language": "python",
   "name": "python2"
  },
  "language_info": {
   "codemirror_mode": {
    "name": "ipython",
    "version": 2
   },
   "file_extension": ".py",
   "mimetype": "text/x-python",
   "name": "python",
   "nbconvert_exporter": "python",
   "pygments_lexer": "ipython2",
   "version": "2.7.14"
  }
 },
 "nbformat": 4,
 "nbformat_minor": 2
}
