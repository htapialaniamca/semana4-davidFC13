{
 "cells": [
  {
   "cell_type": "markdown",
   "metadata": {},
   "source": [
    "# Accediendo sensores\n",
    "\n",
    "Los dispositivos modernos contienen arreglos de sensores embebidos. Una de las funcionalidades de acceder programaticamente al dispositivo usando Python es que podemos interactuar directamente con los sensores. En esta libreta vamos a aprender como determinar que sensores se tienen en el dispositivo y como tomar lecturas de ellos. Posterioremente usaremos estas lecturas para algunas aplicaciones.\n",
    "\n",
    "Comenzaremos con determinar que sensores se tienen en el dispositivo. Para esto usaremos las funciones disponibles en la fachada de sensores [SensorManagerFacade](https://github.com/kuri65536/sl4a/blob/master/docs/ApiReference.md#startsensingtimed)."
   ]
  },
  {
   "cell_type": "code",
   "execution_count": 2,
   "metadata": {},
   "outputs": [
    {
     "name": "stdout",
     "output_type": "stream",
     "text": [
      "List of devices attached\r\n",
      "R88DEAEY55Y59THU\tdevice\r\n",
      "\r\n"
     ]
    }
   ],
   "source": [
    "!adb devices && adb forward tcp:9999 tcp:2222"
   ]
  },
  {
   "cell_type": "code",
   "execution_count": 3,
   "metadata": {},
   "outputs": [
    {
     "data": {
      "text/plain": [
       "Result(id=0, result=None, error=None)"
      ]
     },
     "execution_count": 3,
     "metadata": {},
     "output_type": "execute_result"
    }
   ],
   "source": [
    "import android\n",
    "droid = android.Android()\n",
    "droid.ttsSpeak(\"Listo para recibir instrucciones\")"
   ]
  },
  {
   "cell_type": "markdown",
   "metadata": {},
   "source": [
    "Para acceder a los sensores es necesario iniciar la lectura de los sensores con la funcion `startSensingTimed` que espera dos argumentos de entrada; el primero de ellos se refiere a cual sensor se quiere tomar lectura (1=Todos, 2=Acelerometro, 3=Magnetometro y 4=Iluminacion; estos cuatro son los sensores mas comunes que hay en la mayoria de los dispositivos). El segundo argumento de la funcion es el tiempo maximo entre lecturas en milisegundos.\n",
    "\n",
    "Esta funcion comienza a tomar lectura de los sensores y poniendolos a disposicion para que puedan ser obtenidos usando funciones individuales.\n",
    "\n",
    "Vamos a comenzar iniciando las lecturas de todos los sensores (primer argumento de la funcion 1) cada 250 milisegundos:\n",
    "\n",
    "**NOTA: colocar el dispositivo en un estado de monitoreo y lectura de los sensores puede disminuir considerablemente la bateria.**"
   ]
  },
  {
   "cell_type": "code",
   "execution_count": 4,
   "metadata": {},
   "outputs": [
    {
     "data": {
      "text/plain": [
       "Result(id=1, result=None, error=None)"
      ]
     },
     "execution_count": 4,
     "metadata": {},
     "output_type": "execute_result"
    }
   ],
   "source": [
    "droid.startSensingTimed(1, 250)"
   ]
  },
  {
   "cell_type": "markdown",
   "metadata": {},
   "source": [
    "Ahora podemos conocer los valores mas recientes obtenidos por los sensores. El diccionario depende de los sensores disponibles en su modelo de dispositivo."
   ]
  },
  {
   "cell_type": "code",
   "execution_count": 5,
   "metadata": {
    "scrolled": true
   },
   "outputs": [
    {
     "data": {
      "text/plain": [
       "{u'accuracy': 2,\n",
       " u'light': 65,\n",
       " u'proximity-0': 1,\n",
       " u'proximity-1': 0,\n",
       " u'proximity-2': 0,\n",
       " u'xforce': -0.038,\n",
       " u'yforce': -0.325,\n",
       " u'zforce': 9.73}"
      ]
     },
     "execution_count": 5,
     "metadata": {},
     "output_type": "execute_result"
    }
   ],
   "source": [
    "droid.readSensors().result"
   ]
  },
  {
   "cell_type": "markdown",
   "metadata": {},
   "source": [
    "Es conveniente detener la colecta de datos de los sensores si no se esta accediendo a ellos"
   ]
  },
  {
   "cell_type": "code",
   "execution_count": 6,
   "metadata": {},
   "outputs": [
    {
     "data": {
      "text/plain": [
       "Result(id=3, result=None, error=None)"
      ]
     },
     "execution_count": 6,
     "metadata": {},
     "output_type": "execute_result"
    }
   ],
   "source": [
    "droid.stopSensing()"
   ]
  },
  {
   "cell_type": "code",
   "execution_count": 9,
   "metadata": {},
   "outputs": [
    {
     "data": {
      "text/plain": [
       "Result(id=20, result=None, error=None)"
      ]
     },
     "execution_count": 9,
     "metadata": {},
     "output_type": "execute_result"
    }
   ],
   "source": [
    "import time\n",
    "\n",
    "droid.startSensingTimed(1, 250)\n",
    "time.sleep(1)\n",
    "s1 = droid.readSensors().result\n",
    "s2 = droid.sensorsGetAccuracy().result\n",
    "s3 = droid.sensorsGetLight().result\n",
    "s4 = droid.sensorsReadAccelerometer().result\n",
    "s5 = droid.sensorsReadMagnetometer().result\n",
    "s6 = droid.sensorsReadOrientation().result\n",
    "droid.stopSensing()"
   ]
  },
  {
   "cell_type": "code",
   "execution_count": 11,
   "metadata": {},
   "outputs": [
    {
     "name": "stdout",
     "output_type": "stream",
     "text": [
      "{u'light': 65, u'zforce': 9.739, u'yforce': -0.392, u'proximity-2': 0, u'proximity-1': 0, u'proximity-0': 1, u'accuracy': 2, u'xforce': -0.114}\n",
      "2\n",
      "65\n",
      "[-0.028, -0.344, 9.912]\n",
      "[None, None, None]\n",
      "[None, None, None]\n"
     ]
    }
   ],
   "source": [
    "print s1\n",
    "print s2\n",
    "print s3\n",
    "print s4\n",
    "print s5\n",
    "print s6"
   ]
  },
  {
   "cell_type": "markdown",
   "metadata": {},
   "source": [
    "Ahora vamos a hacer un programa que lea los datos del sensor de aceleracion, y los grafique. Este programa no puede reproducirse en el dispositivo por la libreria que usaremos para graficar los valores de aceleracion."
   ]
  },
  {
   "cell_type": "code",
   "execution_count": 12,
   "metadata": {},
   "outputs": [],
   "source": [
    "# definimos una lista para guardar las lecturas e inicializamos tiempos \n",
    "aceleracion = []\n",
    "tiempoCensado = 0.\n",
    "tiempoTotal = 3000 # 3 segundos de datos"
   ]
  },
  {
   "cell_type": "code",
   "execution_count": 13,
   "metadata": {},
   "outputs": [
    {
     "data": {
      "text/plain": [
       "Result(id=53, result=None, error=None)"
      ]
     },
     "execution_count": 13,
     "metadata": {},
     "output_type": "execute_result"
    }
   ],
   "source": [
    "# comenzaremos a el censado con opcion 2=Acelerometro en intervalos de 100 milisegundos\n",
    "droid.startSensingTimed(2,100)\n",
    "while tiempoCensado <= tiempoTotal:\n",
    "    aceleracion.append(droid.sensorsReadAccelerometer().result) # lectura de valores\n",
    "    tiempoCensado += 100 # incrementa tiempoCensado \n",
    "droid.stopSensing()"
   ]
  },
  {
   "cell_type": "markdown",
   "metadata": {},
   "source": [
    "La siguiente celda importa `pandas` una libreria especializada para manipular datos; la segunda linea permite desplegar graficas en las libretas"
   ]
  },
  {
   "cell_type": "code",
   "execution_count": 14,
   "metadata": {},
   "outputs": [],
   "source": [
    "import pandas as pd\n",
    "%matplotlib inline"
   ]
  },
  {
   "cell_type": "markdown",
   "metadata": {},
   "source": [
    "Creamos una estructura en `pandas` llamada `DataFrame` para contener los datos. Esta estructura tiene muchas funciones utiles que permiten trabajar de forma eficiente con (grandes) datos. Una de ellas es `plot()`."
   ]
  },
  {
   "cell_type": "code",
   "execution_count": 15,
   "metadata": {},
   "outputs": [],
   "source": [
    "acel=pd.DataFrame(aceleracion, columns=[\"x\",\"y\",\"z\"])"
   ]
  },
  {
   "cell_type": "code",
   "execution_count": 16,
   "metadata": {},
   "outputs": [
    {
     "data": {
      "text/plain": [
       "<matplotlib.axes._subplots.AxesSubplot at 0x7f5c8b40f0d0>"
      ]
     },
     "execution_count": 16,
     "metadata": {},
     "output_type": "execute_result"
    },
    {
     "data": {
      "image/png": "[encoded data removed]",
      "text/plain": [
       "<matplotlib.figure.Figure at 0x7f5cb2f7b550>"
      ]
     },
     "metadata": {},
     "output_type": "display_data"
    }
   ],
   "source": [
    "acel.plot()"
   ]
  },
  {
   "cell_type": "markdown",
   "metadata": {},
   "source": [
    "# Ejercicio\n",
    "vuelvan a capturar datos de aceleracion pero muevan el dispositivo mientras lo hacen y grafiquen. Que observan?"
   ]
  },
  {
   "cell_type": "code",
   "execution_count": 24,
   "metadata": {},
   "outputs": [],
   "source": [
    "aceleracion = []\n",
    "tiempoCensado = 0.\n",
    "tiempoTotal = 3000 # 3 segundos de datos"
   ]
  },
  {
   "cell_type": "code",
   "execution_count": 25,
   "metadata": {},
   "outputs": [
    {
     "data": {
      "text/plain": [
       "Result(id=119, result=None, error=None)"
      ]
     },
     "execution_count": 25,
     "metadata": {},
     "output_type": "execute_result"
    }
   ],
   "source": [
    "droid.startSensingTimed(2,100)\n",
    "while tiempoCensado <= tiempoTotal:\n",
    "    time.sleep(100/1000.00)\n",
    "    aceleracion.append(droid.sensorsReadAccelerometer().result) # lectura de valores\n",
    "    tiempoCensado += 100 # incrementa tiempoCensado \n",
    "droid.stopSensing()"
   ]
  },
  {
   "cell_type": "code",
   "execution_count": 26,
   "metadata": {},
   "outputs": [],
   "source": [
    "acel=pd.DataFrame(aceleracion, columns=[\"x\",\"y\",\"z\"])"
   ]
  },
  {
   "cell_type": "code",
   "execution_count": 27,
   "metadata": {},
   "outputs": [
    {
     "data": {
      "text/plain": [
       "<matplotlib.axes._subplots.AxesSubplot at 0x7f5c83797290>"
      ]
     },
     "execution_count": 27,
     "metadata": {},
     "output_type": "execute_result"
    },
    {
     "data": {
      "image/png": "[encoded data removed]",
      "text/plain": [
       "<matplotlib.figure.Figure at 0x7f5c837a4c90>"
      ]
     },
     "metadata": {},
     "output_type": "display_data"
    }
   ],
   "source": [
    "acel.plot()"
   ]
  },
  {
   "cell_type": "code",
   "execution_count": null,
   "metadata": {},
   "outputs": [],
   "source": []
  }
 ],
 "metadata": {
  "kernelspec": {
   "display_name": "Python 2",
   "language": "python",
   "name": "python2"
  },
  "language_info": {
   "codemirror_mode": {
    "name": "ipython",
    "version": 2
   },
   "file_extension": ".py",
   "mimetype": "text/x-python",
   "name": "python",
   "nbconvert_exporter": "python",
   "pygments_lexer": "ipython2",
   "version": "2.7.14"
  }
 },
 "nbformat": 4,
 "nbformat_minor": 2
}
